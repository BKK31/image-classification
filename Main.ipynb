{
 "cells": [
  {
   "cell_type": "code",
   "execution_count": null,
   "metadata": {},
   "outputs": [],
   "source": [
    "import numpy as np\n",
    "import random\n",
    "import tensorflow as tf\n",
    "import matplotlib.pyplot as plt\n",
    "from tensorflow.keras.models import Sequential\n",
    "from tensorflow.keras.layers import Conv2D, MaxPooling2D, Dense, Flatten\n"
   ]
  },
  {
   "cell_type": "code",
   "execution_count": null,
   "metadata": {},
   "outputs": [],
   "source": [
    "data_dir = \"./Dataset\" # Root folder containing subfolders of each class\n",
    "\n",
    "# Load dataset from directory\n",
    "dataset = tf.keras.utils.image_dataset_from_directory(\n",
    "    data_dir,image_size=(256,256),batch_size=32,label_mode=\"categorical\"\n",
    ")\n",
    "\n",
    "class_names = dataset.class_names\n"
   ]
  },
  {
   "cell_type": "code",
   "execution_count": null,
   "metadata": {},
   "outputs": [],
   "source": [
    "train_size = 0.8\n",
    "train_ds = dataset.take(int(len(dataset) * train_size))\n",
    "test_ds = dataset.skip(int(len(dataset) * train_size))"
   ]
  },
  {
   "cell_type": "code",
   "execution_count": null,
   "metadata": {},
   "outputs": [],
   "source": [
    "# Prefetch for performance\n",
    "train_ds = train_ds.prefetch(buffer_size=tf.data.AUTOTUNE)\n",
    "test_ds = test_ds.prefetch(buffer_size=tf.data.AUTOTUNE)\n",
    "\n",
    "def dataset_to_numpy(dataset):\n",
    "    images, labels = [], []\n",
    "    for batch_images, batch_labels in dataset:\n",
    "        images.append(batch_images.numpy())\n",
    "        labels.append(batch_labels.numpy())\n",
    "    return np.concatenate(images), np.concatenate(labels)\n"
   ]
  },
  {
   "cell_type": "code",
   "execution_count": null,
   "metadata": {},
   "outputs": [],
   "source": [
    "# Extract training and testing data\n",
    "x_train, y_train = dataset_to_numpy(train_ds)\n",
    "x_test, y_test = dataset_to_numpy(test_ds)\n",
    "\n",
    "x_train=x_train/255.0\n",
    "x_test=x_test/255.0"
   ]
  },
  {
   "cell_type": "code",
   "execution_count": null,
   "metadata": {},
   "outputs": [],
   "source": [
    "#model architecture\n",
    "model=Sequential([\n",
    "    Conv2D(32,(3,3),activation='relu',input_shape=(256,256,3)),\n",
    "    MaxPooling2D((2,2)),\n",
    "\n",
    "    Conv2D(32,(3,3),activation='relu'),\n",
    "    MaxPooling2D((2,2)),\n",
    "\n",
    "    Flatten(),\n",
    "    Dense(64,activation='relu'),\n",
    "    Dense(20,activation='softmax')\n",
    "])\n"
   ]
  },
  {
   "cell_type": "code",
   "execution_count": null,
   "metadata": {},
   "outputs": [],
   "source": [
    "optim=tf.keras.optimizers.Adam(learning_rate=0.001) \n",
    "model.compile(\n",
    "    loss='categorical_crossentropy',optimizer=optim,metrics=['accuracy']\n",
    ")"
   ]
  },
  {
   "cell_type": "code",
   "execution_count": null,
   "metadata": {},
   "outputs": [],
   "source": [
    "model.fit(x_train,y_train,epochs=5,batch_size=64)"
   ]
  },
  {
   "cell_type": "code",
   "execution_count": null,
   "metadata": {},
   "outputs": [],
   "source": [
    "model.evaluate(x_test,y_test)"
   ]
  },
  {
   "cell_type": "code",
   "execution_count": null,
   "metadata": {},
   "outputs": [],
   "source": [
    "idx = random.randint(0, len(y_test))\n",
    "plt.imshow(x_test[idx, :])\n",
    "plt.axis('off')\n",
    "plt.show()\n",
    "\n",
    "y_pred = model.predict(x_test[idx, :].reshape(1,256,256,3))\n",
    "\n",
    "predicted_class_index = np.argmax(y_pred)\n",
    "predicted_class_name = class_names[predicted_class_index]\n",
    "\n",
    "print(f\"Predicted class: {predicted_class_name}\")"
   ]
  }
 ],
 "metadata": {
  "kernelspec": {
   "display_name": "Python (garuda)",
   "language": "python",
   "name": "garuda"
  },
  "language_info": {
   "codemirror_mode": {
    "name": "ipython",
    "version": 3
   },
   "file_extension": ".py",
   "mimetype": "text/x-python",
   "name": "python",
   "nbconvert_exporter": "python",
   "pygments_lexer": "ipython3",
   "version": "3.12.7"
  }
 },
 "nbformat": 4,
 "nbformat_minor": 2
}

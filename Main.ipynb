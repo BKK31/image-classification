{
 "cells": [
  {
   "cell_type": "code",
   "execution_count": null,
   "metadata": {},
   "outputs": [],
   "source": [
    "import numpy as np\n",
    "import random\n",
    "import tensorflow as tf\n",
    "import matplotlib.pyplot as plt\n",
    "from tensorflow.keras.models import Sequential\n",
    "from tensorflow.keras.layers import Conv2D, MaxPooling2D, Dense, Flatten"
   ]
  },
  {
   "cell_type": "code",
   "execution_count": null,
   "metadata": {},
   "outputs": [],
   "source": [
    "# Load dataset from directory\n",
    "data_dir = \"./Dataset\"  # Root folder containing subfolders of each class\n",
    "dataset = tf.keras.utils.image_dataset_from_directory(\n",
    "    data_dir, image_size=(256, 256), batch_size=32, label_mode=\"int\"  # Use \"int\" if labels are integers\n",
    ")\n",
    "\n",
    "class_names = dataset.class_names"
   ]
  },
  {
   "cell_type": "code",
   "execution_count": null,
   "metadata": {},
   "outputs": [],
   "source": [
    "train_size = 0.8\n",
    "train_ds = dataset.take(int(len(dataset) * train_size))\n",
    "test_ds = dataset.skip(int(len(dataset) * train_size))"
   ]
  },
  {
   "cell_type": "code",
   "execution_count": null,
   "metadata": {},
   "outputs": [],
   "source": [
    "train_ds = train_ds.prefetch(buffer_size=tf.data.AUTOTUNE)\n",
    "test_ds = test_ds.prefetch(buffer_size=tf.data.AUTOTUNE)"
   ]
  },
  {
   "cell_type": "code",
   "execution_count": null,
   "metadata": {},
   "outputs": [],
   "source": [
    "model = Sequential([\n",
    "    Conv2D(32, (3, 3), activation='relu', input_shape=(256, 256, 3)),\n",
    "    MaxPooling2D((2, 2)),\n",
    "\n",
    "    Conv2D(32, (3, 3), activation='relu'),\n",
    "    MaxPooling2D((2, 2)),\n",
    "\n",
    "    Flatten(),\n",
    "    Dense(64, activation='relu'),\n",
    "    Dense(18, activation='softmax')  # 18 output units for 18 classes\n",
    "])"
   ]
  },
  {
   "cell_type": "code",
   "execution_count": null,
   "metadata": {},
   "outputs": [],
   "source": [
    "optim = tf.keras.optimizers.Adam(learning_rate=0.001)\n",
    "model.compile(\n",
    "    loss='sparse_categorical_crossentropy', optimizer=optim, metrics=['accuracy']\n",
    ")\n"
   ]
  },
  {
   "cell_type": "code",
   "execution_count": null,
   "metadata": {},
   "outputs": [],
   "source": [
    "model.fit(train_ds, epochs=10)"
   ]
  },
  {
   "cell_type": "code",
   "execution_count": null,
   "metadata": {},
   "outputs": [],
   "source": [
    "model.evaluate(test_ds)"
   ]
  },
  {
   "cell_type": "code",
   "execution_count": null,
   "metadata": {},
   "outputs": [],
   "source": [
    "for images, labels in test_ds.take(1):  # Takes the first batch\n",
    "    batch_images = images.numpy()\n",
    "    batch_labels = labels.numpy()\n",
    "\n",
    "# Select a random index from the current batch\n",
    "idx = random.randint(0, len(batch_images) - 1)\n",
    "\n",
    "# Get the random image and its true label\n",
    "img_to_predict = batch_images[idx]\n",
    "true_label = batch_labels[idx]\n",
    "\n",
    "# Display the selected image\n",
    "plt.imshow(img_to_predict if img_to_predict.max() <= 1 else img_to_predict / 255.0)\n",
    "plt.axis('off')\n",
    "plt.title(f\"True Label: {class_names[true_label]}\")\n",
    "plt.show()\n",
    "\n",
    "# Get model prediction\n",
    "y_pred = model.predict(img_to_predict.reshape(1, 256, 256, 3))\n",
    "\n",
    "# Get predicted class name\n",
    "predicted_class_index = np.argmax(y_pred)\n",
    "predicted_class_name = class_names[predicted_class_index]\n",
    "\n",
    "\n",
    "print(f\"Predicted class: {predicted_class_name}\")"
   ]
  }
 ],
 "metadata": {
  "kernelspec": {
   "display_name": "Python (garuda)",
   "language": "python",
   "name": "garuda"
  },
  "language_info": {
   "codemirror_mode": {
    "name": "ipython",
    "version": 3
   },
   "file_extension": ".py",
   "mimetype": "text/x-python",
   "name": "python",
   "nbconvert_exporter": "python",
   "pygments_lexer": "ipython3",
   "version": "3.12.7"
  }
 },
 "nbformat": 4,
 "nbformat_minor": 2
}
